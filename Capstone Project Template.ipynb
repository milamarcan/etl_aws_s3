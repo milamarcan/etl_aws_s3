{
 "cells": [
  {
   "cell_type": "markdown",
   "metadata": {},
   "source": [
    "# Project Title\n",
    "### Data Engineering Capstone Project\n",
    "\n",
    "#### Project Summary\n",
    "--describe your project at a high level--\n",
    "\n",
    "The project follows the follow steps:\n",
    "* Step 1: Scope the Project and Gather Data\n",
    "* Step 2: Explore and Assess the Data\n",
    "* Step 3: Define the Data Model\n",
    "* Step 4: Run ETL to Model the Data\n",
    "* Step 5: Complete Project Write Up"
   ]
  },
  {
   "cell_type": "code",
   "execution_count": 1,
   "metadata": {},
   "outputs": [],
   "source": [
    "# Do all imports and installs here\n",
    "import pandas as pd\n",
    "import matplotlib\n",
    "import requests\n",
    "import dask.dataframe as dd\n",
    "from datetime import datetime, tzinfo\n",
    "import json\n",
    "from pathlib import Path\n",
    "import glob\n",
    "import os\n",
    "import boto3\n",
    "from zipfile import ZipFile"
   ]
  },
  {
   "cell_type": "markdown",
   "metadata": {},
   "source": [
    "### Step 1: Scope the Project and Gather Data\n",
    "\n",
    "#### Scope \n",
    "Explain what you plan to do in the project in more detail. What data do you use? What is your end solution look like? What tools did you use? etc>\n",
    "\n",
    "The project is aimed to.... TBA!!!\n",
    "The data from this project will be used to create a PowerBI dashboard. \n",
    "One data source is a collection of 278 products that were cultivated across the globe for the last 60 years. \n",
    "Another data source is an enrichment for the countries (total area, population, etc).\n",
    "\n",
    "#### Describe and Gather Data \n",
    "Describe the data sets you're using. Where did it come from? What type of information is included? \n",
    "\n",
    "Data comes from Food and Agriculture Organization of the United Nations (https://www.fao.org/home/en, CSV format) and Rest Countries project (https://restcountries.com/, API endpoint, JSON format).\n",
    "\n",
    "TBA... describe each data source, frequency of the updates"
   ]
  },
  {
   "cell_type": "markdown",
   "metadata": {},
   "source": [
    "### Step 2: Explore and Assess the Data\n",
    "#### Explore the Data \n",
    "Identify data quality issues, like missing values, duplicate data, etc.\n",
    "\n",
    "#### Cleaning Steps\n",
    "Document steps necessary to clean the data"
   ]
  },
  {
   "cell_type": "markdown",
   "metadata": {},
   "source": [
    "### unzip data folder to have access to most data sources"
   ]
  },
  {
   "cell_type": "code",
   "execution_count": 138,
   "metadata": {},
   "outputs": [],
   "source": [
    "from zipfile import ZipFile\n",
    "  \n",
    "# loading the data.zip and creating a zip object\n",
    "with ZipFile(\"C:\\\\Users\\\\lopin\\\\Desktop\\\\current\\\\Udacity\\\\!DE-project06\\\\etl_aws_s3\\\\data\\\\data.zip\", 'r') as zObject:\n",
    "  \n",
    "    # Extracting all the members of the zip into a specific location.\n",
    "    zObject.extractall(\n",
    "        path=\"C:\\\\Users\\\\lopin\\\\Desktop\\\\current\\\\Udacity\\\\!DE-project06\\\\etl_aws_s3\\\\data\")"
   ]
  },
  {
   "cell_type": "code",
   "execution_count": 139,
   "metadata": {},
   "outputs": [
    {
     "name": "stdout",
     "output_type": "stream",
     "text": [
      "C:\\Users\\lopin\\Desktop\\current\\Udacity\\!DE-project06\\capstone-project-template.ipynb\n"
     ]
    }
   ],
   "source": [
    "current_directory = os.getcwd()\n",
    "print(current_directory)"
   ]
  },
  {
   "cell_type": "markdown",
   "metadata": {},
   "source": [
    "> #### DATA SOURCE 1: Units.csv"
   ]
  },
  {
   "cell_type": "markdown",
   "metadata": {},
   "source": [
    "- ##### read file and show first few rows"
   ]
  },
  {
   "cell_type": "code",
   "execution_count": 85,
   "metadata": {},
   "outputs": [
    {
     "data": {
      "text/html": [
       "<div>\n",
       "<style scoped>\n",
       "    .dataframe tbody tr th:only-of-type {\n",
       "        vertical-align: middle;\n",
       "    }\n",
       "\n",
       "    .dataframe tbody tr th {\n",
       "        vertical-align: top;\n",
       "    }\n",
       "\n",
       "    .dataframe thead th {\n",
       "        text-align: right;\n",
       "    }\n",
       "</style>\n",
       "<table border=\"1\" class=\"dataframe\">\n",
       "  <thead>\n",
       "    <tr style=\"text-align: right;\">\n",
       "      <th></th>\n",
       "      <th>Unit Name</th>\n",
       "      <th>Description</th>\n",
       "    </tr>\n",
       "  </thead>\n",
       "  <tbody>\n",
       "    <tr>\n",
       "      <th>0</th>\n",
       "      <td>An</td>\n",
       "      <td>Animals</td>\n",
       "    </tr>\n",
       "    <tr>\n",
       "      <th>1</th>\n",
       "      <td>ha</td>\n",
       "      <td>Hectares</td>\n",
       "    </tr>\n",
       "    <tr>\n",
       "      <th>2</th>\n",
       "      <td>100 g</td>\n",
       "      <td>hundred Grams</td>\n",
       "    </tr>\n",
       "    <tr>\n",
       "      <th>3</th>\n",
       "      <td>100 g/An</td>\n",
       "      <td>hundred Grams per animal</td>\n",
       "    </tr>\n",
       "    <tr>\n",
       "      <th>4</th>\n",
       "      <td>100 g/ha</td>\n",
       "      <td>hundred Grams per hectare</td>\n",
       "    </tr>\n",
       "    <tr>\n",
       "      <th>5</th>\n",
       "      <td>100 g/t</td>\n",
       "      <td>hundred Grams per tonne</td>\n",
       "    </tr>\n",
       "    <tr>\n",
       "      <th>6</th>\n",
       "      <td>100 mg/An</td>\n",
       "      <td>hundred Milligrams per animal</td>\n",
       "    </tr>\n",
       "    <tr>\n",
       "      <th>7</th>\n",
       "      <td>No</td>\n",
       "      <td>Number</td>\n",
       "    </tr>\n",
       "    <tr>\n",
       "      <th>8</th>\n",
       "      <td>No/An</td>\n",
       "      <td>Number per animal</td>\n",
       "    </tr>\n",
       "    <tr>\n",
       "      <th>9</th>\n",
       "      <td>0.1 g/An</td>\n",
       "      <td>tenth Grams per animal</td>\n",
       "    </tr>\n",
       "    <tr>\n",
       "      <th>10</th>\n",
       "      <td>1000 An</td>\n",
       "      <td>thousand Animals</td>\n",
       "    </tr>\n",
       "    <tr>\n",
       "      <th>11</th>\n",
       "      <td>1000 No</td>\n",
       "      <td>thousand Number</td>\n",
       "    </tr>\n",
       "    <tr>\n",
       "      <th>12</th>\n",
       "      <td>t</td>\n",
       "      <td>Tonnes</td>\n",
       "    </tr>\n",
       "  </tbody>\n",
       "</table>\n",
       "</div>"
      ],
      "text/plain": [
       "    Unit Name                    Description\n",
       "0          An                        Animals\n",
       "1          ha                       Hectares\n",
       "2       100 g                  hundred Grams\n",
       "3    100 g/An       hundred Grams per animal\n",
       "4    100 g/ha      hundred Grams per hectare\n",
       "5     100 g/t        hundred Grams per tonne\n",
       "6   100 mg/An  hundred Milligrams per animal\n",
       "7          No                         Number\n",
       "8       No/An              Number per animal\n",
       "9    0.1 g/An         tenth Grams per animal\n",
       "10    1000 An               thousand Animals\n",
       "11    1000 No                thousand Number\n",
       "12          t                         Tonnes"
      ]
     },
     "execution_count": 85,
     "metadata": {},
     "output_type": "execute_result"
    }
   ],
   "source": [
    "data_units = pd.read_csv('data/Units.csv')\n",
    "data_units.head(15)"
   ]
  },
  {
   "cell_type": "markdown",
   "metadata": {},
   "source": [
    "- ##### show some info about the dataset"
   ]
  },
  {
   "cell_type": "code",
   "execution_count": 86,
   "metadata": {
    "scrolled": true
   },
   "outputs": [
    {
     "data": {
      "text/html": [
       "<div>\n",
       "<style scoped>\n",
       "    .dataframe tbody tr th:only-of-type {\n",
       "        vertical-align: middle;\n",
       "    }\n",
       "\n",
       "    .dataframe tbody tr th {\n",
       "        vertical-align: top;\n",
       "    }\n",
       "\n",
       "    .dataframe thead th {\n",
       "        text-align: right;\n",
       "    }\n",
       "</style>\n",
       "<table border=\"1\" class=\"dataframe\">\n",
       "  <thead>\n",
       "    <tr style=\"text-align: right;\">\n",
       "      <th></th>\n",
       "      <th>Unit Name</th>\n",
       "      <th>Description</th>\n",
       "    </tr>\n",
       "  </thead>\n",
       "  <tbody>\n",
       "    <tr>\n",
       "      <th>count</th>\n",
       "      <td>13</td>\n",
       "      <td>13</td>\n",
       "    </tr>\n",
       "    <tr>\n",
       "      <th>unique</th>\n",
       "      <td>13</td>\n",
       "      <td>13</td>\n",
       "    </tr>\n",
       "    <tr>\n",
       "      <th>top</th>\n",
       "      <td>An</td>\n",
       "      <td>Animals</td>\n",
       "    </tr>\n",
       "    <tr>\n",
       "      <th>freq</th>\n",
       "      <td>1</td>\n",
       "      <td>1</td>\n",
       "    </tr>\n",
       "  </tbody>\n",
       "</table>\n",
       "</div>"
      ],
      "text/plain": [
       "       Unit Name Description\n",
       "count         13          13\n",
       "unique        13          13\n",
       "top           An     Animals\n",
       "freq           1           1"
      ]
     },
     "execution_count": 86,
     "metadata": {},
     "output_type": "execute_result"
    }
   ],
   "source": [
    "data_units.describe()"
   ]
  },
  {
   "cell_type": "markdown",
   "metadata": {},
   "source": [
    "- ##### check for duplicates"
   ]
  },
  {
   "cell_type": "code",
   "execution_count": 87,
   "metadata": {},
   "outputs": [],
   "source": [
    "tr_units = data_units.count()\n",
    "ur_units = data_units.drop_duplicates().count()"
   ]
  },
  {
   "cell_type": "code",
   "execution_count": 88,
   "metadata": {},
   "outputs": [
    {
     "name": "stdout",
     "output_type": "stream",
     "text": [
      "Data is good, there are 0 duplicates. In total there are 13 rows, and 13 unique values.\n"
     ]
    }
   ],
   "source": [
    "if tr_units['Unit Name'] == ur_units['Unit Name']:\n",
    "    print(f\"Data is good, there are {tr_units['Unit Name']-ur_units['Unit Name']} duplicates. In total there are {tr_units['Unit Name']} rows, \\\n",
    "and {ur_units['Unit Name']} unique values.\")\n",
    "    \n",
    "elif tr_units['Unit Name'] > ur_units['Unit Name']:\n",
    "    print(f\"There are {tr_units['Unit Name']-ur_units['Unit Name']} duplicates in the data. \\\n",
    "There are {tr_units['Unit Name']} rows in total, and {ur_units['Unit Name']} unique values\")\n",
    "    \n",
    "else:\n",
    "    print(f\"Something is wrong with the data. There are more unique values than the rows: \\\n",
    "total rows {tr_units['Unit Name']} and {ur_units['Unit Name']} unique values.\")"
   ]
  },
  {
   "cell_type": "markdown",
   "metadata": {},
   "source": [
    "> #### DATA SOURCE 2: ItemGroup.csv"
   ]
  },
  {
   "cell_type": "markdown",
   "metadata": {},
   "source": [
    "- ##### read the file and show first few rows"
   ]
  },
  {
   "cell_type": "code",
   "execution_count": 92,
   "metadata": {},
   "outputs": [
    {
     "data": {
      "text/html": [
       "<div>\n",
       "<style scoped>\n",
       "    .dataframe tbody tr th:only-of-type {\n",
       "        vertical-align: middle;\n",
       "    }\n",
       "\n",
       "    .dataframe tbody tr th {\n",
       "        vertical-align: top;\n",
       "    }\n",
       "\n",
       "    .dataframe thead th {\n",
       "        text-align: right;\n",
       "    }\n",
       "</style>\n",
       "<table border=\"1\" class=\"dataframe\">\n",
       "  <thead>\n",
       "    <tr style=\"text-align: right;\">\n",
       "      <th></th>\n",
       "      <th>Item Group Code</th>\n",
       "      <th>Item Group</th>\n",
       "      <th>Item Code</th>\n",
       "      <th>Item</th>\n",
       "      <th>Factor</th>\n",
       "      <th>CPC Code</th>\n",
       "      <th>HS Code</th>\n",
       "      <th>HS07 Code</th>\n",
       "      <th>HS12 Code</th>\n",
       "    </tr>\n",
       "  </thead>\n",
       "  <tbody>\n",
       "    <tr>\n",
       "      <th>0</th>\n",
       "      <td>QC</td>\n",
       "      <td>Crops, primary</td>\n",
       "      <td>1714</td>\n",
       "      <td>Crops, primary</td>\n",
       "      <td>1.0</td>\n",
       "      <td>F1714</td>\n",
       "      <td>NaN</td>\n",
       "      <td>NaN</td>\n",
       "      <td>NaN</td>\n",
       "    </tr>\n",
       "    <tr>\n",
       "      <th>1</th>\n",
       "      <td>QC</td>\n",
       "      <td>Crops, primary</td>\n",
       "      <td>1753</td>\n",
       "      <td>Fibre Crops Primary</td>\n",
       "      <td>1.0</td>\n",
       "      <td>F1753</td>\n",
       "      <td>NaN</td>\n",
       "      <td>NaN</td>\n",
       "      <td>NaN</td>\n",
       "    </tr>\n",
       "    <tr>\n",
       "      <th>2</th>\n",
       "      <td>QC</td>\n",
       "      <td>Crops, primary</td>\n",
       "      <td>1730</td>\n",
       "      <td>Oilcrops Primary</td>\n",
       "      <td>1.0</td>\n",
       "      <td>F1730</td>\n",
       "      <td>NaN</td>\n",
       "      <td>NaN</td>\n",
       "      <td>NaN</td>\n",
       "    </tr>\n",
       "    <tr>\n",
       "      <th>3</th>\n",
       "      <td>QA</td>\n",
       "      <td>Live Animals</td>\n",
       "      <td>1756</td>\n",
       "      <td>Live Animals</td>\n",
       "      <td>1.0</td>\n",
       "      <td>F1756</td>\n",
       "      <td>NaN</td>\n",
       "      <td>NaN</td>\n",
       "      <td>NaN</td>\n",
       "    </tr>\n",
       "    <tr>\n",
       "      <th>4</th>\n",
       "      <td>QL</td>\n",
       "      <td>Livestock primary</td>\n",
       "      <td>1777</td>\n",
       "      <td>Hides and skins, primary</td>\n",
       "      <td>1.0</td>\n",
       "      <td>F1777</td>\n",
       "      <td>NaN</td>\n",
       "      <td>NaN</td>\n",
       "      <td>NaN</td>\n",
       "    </tr>\n",
       "  </tbody>\n",
       "</table>\n",
       "</div>"
      ],
      "text/plain": [
       "  Item Group Code         Item Group  Item Code                      Item  \\\n",
       "0              QC     Crops, primary       1714            Crops, primary   \n",
       "1              QC     Crops, primary       1753       Fibre Crops Primary   \n",
       "2              QC     Crops, primary       1730          Oilcrops Primary   \n",
       "3              QA       Live Animals       1756              Live Animals   \n",
       "4              QL  Livestock primary       1777  Hides and skins, primary   \n",
       "\n",
       "   Factor CPC Code  HS Code HS07 Code HS12 Code  \n",
       "0     1.0    F1714      NaN       NaN       NaN  \n",
       "1     1.0    F1753      NaN       NaN       NaN  \n",
       "2     1.0    F1730      NaN       NaN       NaN  \n",
       "3     1.0    F1756      NaN       NaN       NaN  \n",
       "4     1.0    F1777      NaN       NaN       NaN  "
      ]
     },
     "execution_count": 92,
     "metadata": {},
     "output_type": "execute_result"
    }
   ],
   "source": [
    "data_item_group = pd.read_csv('data/ItemGroup.csv')\n",
    "data_item_group.head()"
   ]
  },
  {
   "cell_type": "markdown",
   "metadata": {},
   "source": [
    "- ##### explore the data"
   ]
  },
  {
   "cell_type": "code",
   "execution_count": 93,
   "metadata": {},
   "outputs": [
    {
     "data": {
      "text/html": [
       "<div>\n",
       "<style scoped>\n",
       "    .dataframe tbody tr th:only-of-type {\n",
       "        vertical-align: middle;\n",
       "    }\n",
       "\n",
       "    .dataframe tbody tr th {\n",
       "        vertical-align: top;\n",
       "    }\n",
       "\n",
       "    .dataframe thead th {\n",
       "        text-align: right;\n",
       "    }\n",
       "</style>\n",
       "<table border=\"1\" class=\"dataframe\">\n",
       "  <thead>\n",
       "    <tr style=\"text-align: right;\">\n",
       "      <th></th>\n",
       "      <th>Item Code</th>\n",
       "      <th>Factor</th>\n",
       "      <th>HS Code</th>\n",
       "    </tr>\n",
       "  </thead>\n",
       "  <tbody>\n",
       "    <tr>\n",
       "      <th>count</th>\n",
       "      <td>748.000000</td>\n",
       "      <td>748.000000</td>\n",
       "      <td>0.0</td>\n",
       "    </tr>\n",
       "    <tr>\n",
       "      <th>mean</th>\n",
       "      <td>618.610963</td>\n",
       "      <td>0.966167</td>\n",
       "      <td>NaN</td>\n",
       "    </tr>\n",
       "    <tr>\n",
       "      <th>std</th>\n",
       "      <td>737.034012</td>\n",
       "      <td>0.148149</td>\n",
       "      <td>NaN</td>\n",
       "    </tr>\n",
       "    <tr>\n",
       "      <th>min</th>\n",
       "      <td>15.000000</td>\n",
       "      <td>0.031200</td>\n",
       "      <td>NaN</td>\n",
       "    </tr>\n",
       "    <tr>\n",
       "      <th>25%</th>\n",
       "      <td>270.000000</td>\n",
       "      <td>1.000000</td>\n",
       "      <td>NaN</td>\n",
       "    </tr>\n",
       "    <tr>\n",
       "      <th>50%</th>\n",
       "      <td>522.000000</td>\n",
       "      <td>1.000000</td>\n",
       "      <td>NaN</td>\n",
       "    </tr>\n",
       "    <tr>\n",
       "      <th>75%</th>\n",
       "      <td>891.750000</td>\n",
       "      <td>1.000000</td>\n",
       "      <td>NaN</td>\n",
       "    </tr>\n",
       "    <tr>\n",
       "      <th>max</th>\n",
       "      <td>17530.000000</td>\n",
       "      <td>1.000000</td>\n",
       "      <td>NaN</td>\n",
       "    </tr>\n",
       "  </tbody>\n",
       "</table>\n",
       "</div>"
      ],
      "text/plain": [
       "          Item Code      Factor  HS Code\n",
       "count    748.000000  748.000000      0.0\n",
       "mean     618.610963    0.966167      NaN\n",
       "std      737.034012    0.148149      NaN\n",
       "min       15.000000    0.031200      NaN\n",
       "25%      270.000000    1.000000      NaN\n",
       "50%      522.000000    1.000000      NaN\n",
       "75%      891.750000    1.000000      NaN\n",
       "max    17530.000000    1.000000      NaN"
      ]
     },
     "execution_count": 93,
     "metadata": {},
     "output_type": "execute_result"
    }
   ],
   "source": [
    "data_item_group.describe()"
   ]
  },
  {
   "cell_type": "markdown",
   "metadata": {},
   "source": [
    "> #### DATA SOURCE 3: Flags.csv"
   ]
  },
  {
   "cell_type": "markdown",
   "metadata": {},
   "source": [
    "- ##### read the file and show first few rows"
   ]
  },
  {
   "cell_type": "code",
   "execution_count": 94,
   "metadata": {},
   "outputs": [
    {
     "data": {
      "text/html": [
       "<div>\n",
       "<style scoped>\n",
       "    .dataframe tbody tr th:only-of-type {\n",
       "        vertical-align: middle;\n",
       "    }\n",
       "\n",
       "    .dataframe tbody tr th {\n",
       "        vertical-align: top;\n",
       "    }\n",
       "\n",
       "    .dataframe thead th {\n",
       "        text-align: right;\n",
       "    }\n",
       "</style>\n",
       "<table border=\"1\" class=\"dataframe\">\n",
       "  <thead>\n",
       "    <tr style=\"text-align: right;\">\n",
       "      <th></th>\n",
       "      <th>Flag</th>\n",
       "      <th>Description</th>\n",
       "    </tr>\n",
       "  </thead>\n",
       "  <tbody>\n",
       "    <tr>\n",
       "      <th>0</th>\n",
       "      <td>A</td>\n",
       "      <td>Official figure</td>\n",
       "    </tr>\n",
       "    <tr>\n",
       "      <th>1</th>\n",
       "      <td>E</td>\n",
       "      <td>Estimated value</td>\n",
       "    </tr>\n",
       "    <tr>\n",
       "      <th>2</th>\n",
       "      <td>I</td>\n",
       "      <td>Imputed value</td>\n",
       "    </tr>\n",
       "    <tr>\n",
       "      <th>3</th>\n",
       "      <td>M</td>\n",
       "      <td>Missing value (data cannot exist; not applicable)</td>\n",
       "    </tr>\n",
       "    <tr>\n",
       "      <th>4</th>\n",
       "      <td>T</td>\n",
       "      <td>Unofficial figure</td>\n",
       "    </tr>\n",
       "  </tbody>\n",
       "</table>\n",
       "</div>"
      ],
      "text/plain": [
       "  Flag                                        Description\n",
       "0    A                                    Official figure\n",
       "1    E                                    Estimated value\n",
       "2    I                                      Imputed value\n",
       "3    M  Missing value (data cannot exist; not applicable)\n",
       "4    T                                  Unofficial figure"
      ]
     },
     "execution_count": 94,
     "metadata": {},
     "output_type": "execute_result"
    }
   ],
   "source": [
    "data_flags = pd.read_csv('data/Flags.csv')\n",
    "data_flags.head()"
   ]
  },
  {
   "cell_type": "markdown",
   "metadata": {},
   "source": [
    "- ##### explore the data"
   ]
  },
  {
   "cell_type": "code",
   "execution_count": 95,
   "metadata": {},
   "outputs": [
    {
     "data": {
      "text/html": [
       "<div>\n",
       "<style scoped>\n",
       "    .dataframe tbody tr th:only-of-type {\n",
       "        vertical-align: middle;\n",
       "    }\n",
       "\n",
       "    .dataframe tbody tr th {\n",
       "        vertical-align: top;\n",
       "    }\n",
       "\n",
       "    .dataframe thead th {\n",
       "        text-align: right;\n",
       "    }\n",
       "</style>\n",
       "<table border=\"1\" class=\"dataframe\">\n",
       "  <thead>\n",
       "    <tr style=\"text-align: right;\">\n",
       "      <th></th>\n",
       "      <th>Flag</th>\n",
       "      <th>Description</th>\n",
       "    </tr>\n",
       "  </thead>\n",
       "  <tbody>\n",
       "    <tr>\n",
       "      <th>count</th>\n",
       "      <td>5</td>\n",
       "      <td>5</td>\n",
       "    </tr>\n",
       "    <tr>\n",
       "      <th>unique</th>\n",
       "      <td>5</td>\n",
       "      <td>5</td>\n",
       "    </tr>\n",
       "    <tr>\n",
       "      <th>top</th>\n",
       "      <td>A</td>\n",
       "      <td>Official figure</td>\n",
       "    </tr>\n",
       "    <tr>\n",
       "      <th>freq</th>\n",
       "      <td>1</td>\n",
       "      <td>1</td>\n",
       "    </tr>\n",
       "  </tbody>\n",
       "</table>\n",
       "</div>"
      ],
      "text/plain": [
       "       Flag      Description\n",
       "count     5                5\n",
       "unique    5                5\n",
       "top       A  Official figure\n",
       "freq      1                1"
      ]
     },
     "execution_count": 95,
     "metadata": {},
     "output_type": "execute_result"
    }
   ],
   "source": [
    "data_flags.describe()"
   ]
  },
  {
   "cell_type": "code",
   "execution_count": null,
   "metadata": {},
   "outputs": [],
   "source": []
  },
  {
   "cell_type": "markdown",
   "metadata": {},
   "source": [
    "> #### DATA SOURCE 4: Elements.csv"
   ]
  },
  {
   "cell_type": "markdown",
   "metadata": {},
   "source": [
    "- ##### read the file and show first few rows"
   ]
  },
  {
   "cell_type": "code",
   "execution_count": 96,
   "metadata": {},
   "outputs": [
    {
     "data": {
      "text/html": [
       "<div>\n",
       "<style scoped>\n",
       "    .dataframe tbody tr th:only-of-type {\n",
       "        vertical-align: middle;\n",
       "    }\n",
       "\n",
       "    .dataframe tbody tr th {\n",
       "        vertical-align: top;\n",
       "    }\n",
       "\n",
       "    .dataframe thead th {\n",
       "        text-align: right;\n",
       "    }\n",
       "</style>\n",
       "<table border=\"1\" class=\"dataframe\">\n",
       "  <thead>\n",
       "    <tr style=\"text-align: right;\">\n",
       "      <th></th>\n",
       "      <th>Element Code</th>\n",
       "      <th>Element</th>\n",
       "      <th>Unit</th>\n",
       "      <th>Description</th>\n",
       "    </tr>\n",
       "  </thead>\n",
       "  <tbody>\n",
       "    <tr>\n",
       "      <th>0</th>\n",
       "      <td>5312</td>\n",
       "      <td>Area harvested</td>\n",
       "      <td>ha</td>\n",
       "      <td>Data refer to the area from which a crop is ga...</td>\n",
       "    </tr>\n",
       "    <tr>\n",
       "      <th>1</th>\n",
       "      <td>5423</td>\n",
       "      <td>Extraction Rate</td>\n",
       "      <td>hg/mt</td>\n",
       "      <td>NaN</td>\n",
       "    </tr>\n",
       "    <tr>\n",
       "      <th>2</th>\n",
       "      <td>5410</td>\n",
       "      <td>Yield</td>\n",
       "      <td>100mg/An</td>\n",
       "      <td>NaN</td>\n",
       "    </tr>\n",
       "    <tr>\n",
       "      <th>3</th>\n",
       "      <td>5413</td>\n",
       "      <td>Yield</td>\n",
       "      <td>No/An</td>\n",
       "      <td>NaN</td>\n",
       "    </tr>\n",
       "    <tr>\n",
       "      <th>4</th>\n",
       "      <td>5420</td>\n",
       "      <td>Yield</td>\n",
       "      <td>hg/An</td>\n",
       "      <td>NaN</td>\n",
       "    </tr>\n",
       "  </tbody>\n",
       "</table>\n",
       "</div>"
      ],
      "text/plain": [
       "   Element Code          Element      Unit  \\\n",
       "0          5312   Area harvested        ha   \n",
       "1          5423  Extraction Rate     hg/mt   \n",
       "2          5410            Yield  100mg/An   \n",
       "3          5413            Yield     No/An   \n",
       "4          5420            Yield     hg/An   \n",
       "\n",
       "                                         Description  \n",
       "0  Data refer to the area from which a crop is ga...  \n",
       "1                                                NaN  \n",
       "2                                                NaN  \n",
       "3                                                NaN  \n",
       "4                                                NaN  "
      ]
     },
     "execution_count": 96,
     "metadata": {},
     "output_type": "execute_result"
    }
   ],
   "source": [
    "data_elements = pd.read_csv('data/Elements.csv')\n",
    "data_elements.head()"
   ]
  },
  {
   "cell_type": "markdown",
   "metadata": {},
   "source": [
    "- ##### explore the data"
   ]
  },
  {
   "cell_type": "code",
   "execution_count": 97,
   "metadata": {},
   "outputs": [
    {
     "data": {
      "text/html": [
       "<div>\n",
       "<style scoped>\n",
       "    .dataframe tbody tr th:only-of-type {\n",
       "        vertical-align: middle;\n",
       "    }\n",
       "\n",
       "    .dataframe tbody tr th {\n",
       "        vertical-align: top;\n",
       "    }\n",
       "\n",
       "    .dataframe thead th {\n",
       "        text-align: right;\n",
       "    }\n",
       "</style>\n",
       "<table border=\"1\" class=\"dataframe\">\n",
       "  <thead>\n",
       "    <tr style=\"text-align: right;\">\n",
       "      <th></th>\n",
       "      <th>Element Code</th>\n",
       "    </tr>\n",
       "  </thead>\n",
       "  <tbody>\n",
       "    <tr>\n",
       "      <th>count</th>\n",
       "      <td>22.000000</td>\n",
       "    </tr>\n",
       "    <tr>\n",
       "      <th>mean</th>\n",
       "      <td>5344.090909</td>\n",
       "    </tr>\n",
       "    <tr>\n",
       "      <th>std</th>\n",
       "      <td>112.951279</td>\n",
       "    </tr>\n",
       "    <tr>\n",
       "      <th>min</th>\n",
       "      <td>5111.000000</td>\n",
       "    </tr>\n",
       "    <tr>\n",
       "      <th>25%</th>\n",
       "      <td>5315.000000</td>\n",
       "    </tr>\n",
       "    <tr>\n",
       "      <th>50%</th>\n",
       "      <td>5322.500000</td>\n",
       "    </tr>\n",
       "    <tr>\n",
       "      <th>75%</th>\n",
       "      <td>5419.750000</td>\n",
       "    </tr>\n",
       "    <tr>\n",
       "      <th>max</th>\n",
       "      <td>5513.000000</td>\n",
       "    </tr>\n",
       "  </tbody>\n",
       "</table>\n",
       "</div>"
      ],
      "text/plain": [
       "       Element Code\n",
       "count     22.000000\n",
       "mean    5344.090909\n",
       "std      112.951279\n",
       "min     5111.000000\n",
       "25%     5315.000000\n",
       "50%     5322.500000\n",
       "75%     5419.750000\n",
       "max     5513.000000"
      ]
     },
     "execution_count": 97,
     "metadata": {},
     "output_type": "execute_result"
    }
   ],
   "source": [
    "data_elements.describe()"
   ]
  },
  {
   "cell_type": "code",
   "execution_count": 98,
   "metadata": {},
   "outputs": [
    {
     "data": {
      "text/plain": [
       "Element Code    22\n",
       "Element         22\n",
       "Unit            22\n",
       "Description      9\n",
       "dtype: int64"
      ]
     },
     "execution_count": 98,
     "metadata": {},
     "output_type": "execute_result"
    }
   ],
   "source": [
    "data_elements.count()"
   ]
  },
  {
   "cell_type": "code",
   "execution_count": null,
   "metadata": {},
   "outputs": [],
   "source": []
  },
  {
   "cell_type": "markdown",
   "metadata": {},
   "source": [
    "> #### DATA SOURCE 5: CountryGroup.csv"
   ]
  },
  {
   "cell_type": "markdown",
   "metadata": {},
   "source": [
    "- ##### read the file and show first few rows"
   ]
  },
  {
   "cell_type": "code",
   "execution_count": 99,
   "metadata": {},
   "outputs": [
    {
     "data": {
      "text/html": [
       "<div>\n",
       "<style scoped>\n",
       "    .dataframe tbody tr th:only-of-type {\n",
       "        vertical-align: middle;\n",
       "    }\n",
       "\n",
       "    .dataframe tbody tr th {\n",
       "        vertical-align: top;\n",
       "    }\n",
       "\n",
       "    .dataframe thead th {\n",
       "        text-align: right;\n",
       "    }\n",
       "</style>\n",
       "<table border=\"1\" class=\"dataframe\">\n",
       "  <thead>\n",
       "    <tr style=\"text-align: right;\">\n",
       "      <th></th>\n",
       "      <th>Country Group Code</th>\n",
       "      <th>Country Group</th>\n",
       "      <th>Country Code</th>\n",
       "      <th>Country</th>\n",
       "      <th>M49 Code</th>\n",
       "      <th>ISO2 Code</th>\n",
       "      <th>ISO3 Code</th>\n",
       "    </tr>\n",
       "  </thead>\n",
       "  <tbody>\n",
       "    <tr>\n",
       "      <th>0</th>\n",
       "      <td>5100</td>\n",
       "      <td>Africa</td>\n",
       "      <td>4</td>\n",
       "      <td>Algeria</td>\n",
       "      <td>12</td>\n",
       "      <td>DZ</td>\n",
       "      <td>DZA</td>\n",
       "    </tr>\n",
       "    <tr>\n",
       "      <th>1</th>\n",
       "      <td>5100</td>\n",
       "      <td>Africa</td>\n",
       "      <td>7</td>\n",
       "      <td>Angola</td>\n",
       "      <td>24</td>\n",
       "      <td>AO</td>\n",
       "      <td>AGO</td>\n",
       "    </tr>\n",
       "    <tr>\n",
       "      <th>2</th>\n",
       "      <td>5100</td>\n",
       "      <td>Africa</td>\n",
       "      <td>53</td>\n",
       "      <td>Benin</td>\n",
       "      <td>204</td>\n",
       "      <td>BJ</td>\n",
       "      <td>BEN</td>\n",
       "    </tr>\n",
       "    <tr>\n",
       "      <th>3</th>\n",
       "      <td>5100</td>\n",
       "      <td>Africa</td>\n",
       "      <td>20</td>\n",
       "      <td>Botswana</td>\n",
       "      <td>72</td>\n",
       "      <td>BW</td>\n",
       "      <td>BWA</td>\n",
       "    </tr>\n",
       "    <tr>\n",
       "      <th>4</th>\n",
       "      <td>5100</td>\n",
       "      <td>Africa</td>\n",
       "      <td>233</td>\n",
       "      <td>Burkina Faso</td>\n",
       "      <td>854</td>\n",
       "      <td>BF</td>\n",
       "      <td>BFA</td>\n",
       "    </tr>\n",
       "  </tbody>\n",
       "</table>\n",
       "</div>"
      ],
      "text/plain": [
       "   Country Group Code Country Group  Country Code       Country  M49 Code  \\\n",
       "0                5100        Africa             4       Algeria        12   \n",
       "1                5100        Africa             7        Angola        24   \n",
       "2                5100        Africa            53         Benin       204   \n",
       "3                5100        Africa            20      Botswana        72   \n",
       "4                5100        Africa           233  Burkina Faso       854   \n",
       "\n",
       "  ISO2 Code ISO3 Code  \n",
       "0        DZ       DZA  \n",
       "1        AO       AGO  \n",
       "2        BJ       BEN  \n",
       "3        BW       BWA  \n",
       "4        BF       BFA  "
      ]
     },
     "execution_count": 99,
     "metadata": {},
     "output_type": "execute_result"
    }
   ],
   "source": [
    "data_country_group = pd.read_csv('data/CountryGroup.csv')\n",
    "data_country_group.head()"
   ]
  },
  {
   "cell_type": "markdown",
   "metadata": {},
   "source": [
    "- ##### explore the data"
   ]
  },
  {
   "cell_type": "code",
   "execution_count": 100,
   "metadata": {},
   "outputs": [
    {
     "data": {
      "text/html": [
       "<div>\n",
       "<style scoped>\n",
       "    .dataframe tbody tr th:only-of-type {\n",
       "        vertical-align: middle;\n",
       "    }\n",
       "\n",
       "    .dataframe tbody tr th {\n",
       "        vertical-align: top;\n",
       "    }\n",
       "\n",
       "    .dataframe thead th {\n",
       "        text-align: right;\n",
       "    }\n",
       "</style>\n",
       "<table border=\"1\" class=\"dataframe\">\n",
       "  <thead>\n",
       "    <tr style=\"text-align: right;\">\n",
       "      <th></th>\n",
       "      <th>Country Group Code</th>\n",
       "      <th>Country Code</th>\n",
       "      <th>M49 Code</th>\n",
       "    </tr>\n",
       "  </thead>\n",
       "  <tbody>\n",
       "    <tr>\n",
       "      <th>count</th>\n",
       "      <td>918.000000</td>\n",
       "      <td>918.000000</td>\n",
       "      <td>918.000000</td>\n",
       "    </tr>\n",
       "    <tr>\n",
       "      <th>mean</th>\n",
       "      <td>5371.140523</td>\n",
       "      <td>131.269063</td>\n",
       "      <td>435.545752</td>\n",
       "    </tr>\n",
       "    <tr>\n",
       "      <th>std</th>\n",
       "      <td>318.919100</td>\n",
       "      <td>75.804004</td>\n",
       "      <td>254.890011</td>\n",
       "    </tr>\n",
       "    <tr>\n",
       "      <th>min</th>\n",
       "      <td>5000.000000</td>\n",
       "      <td>1.000000</td>\n",
       "      <td>4.000000</td>\n",
       "    </tr>\n",
       "    <tr>\n",
       "      <th>25%</th>\n",
       "      <td>5100.000000</td>\n",
       "      <td>64.500000</td>\n",
       "      <td>212.500000</td>\n",
       "    </tr>\n",
       "    <tr>\n",
       "      <th>50%</th>\n",
       "      <td>5301.000000</td>\n",
       "      <td>130.500000</td>\n",
       "      <td>430.000000</td>\n",
       "    </tr>\n",
       "    <tr>\n",
       "      <th>75%</th>\n",
       "      <td>5801.000000</td>\n",
       "      <td>195.000000</td>\n",
       "      <td>662.000000</td>\n",
       "    </tr>\n",
       "    <tr>\n",
       "      <th>max</th>\n",
       "      <td>5817.000000</td>\n",
       "      <td>351.000000</td>\n",
       "      <td>894.000000</td>\n",
       "    </tr>\n",
       "  </tbody>\n",
       "</table>\n",
       "</div>"
      ],
      "text/plain": [
       "       Country Group Code  Country Code    M49 Code\n",
       "count          918.000000    918.000000  918.000000\n",
       "mean          5371.140523    131.269063  435.545752\n",
       "std            318.919100     75.804004  254.890011\n",
       "min           5000.000000      1.000000    4.000000\n",
       "25%           5100.000000     64.500000  212.500000\n",
       "50%           5301.000000    130.500000  430.000000\n",
       "75%           5801.000000    195.000000  662.000000\n",
       "max           5817.000000    351.000000  894.000000"
      ]
     },
     "execution_count": 100,
     "metadata": {},
     "output_type": "execute_result"
    }
   ],
   "source": [
    "data_country_group.describe()"
   ]
  },
  {
   "cell_type": "code",
   "execution_count": 102,
   "metadata": {},
   "outputs": [
    {
     "data": {
      "text/plain": [
       "211"
      ]
     },
     "execution_count": 102,
     "metadata": {},
     "output_type": "execute_result"
    }
   ],
   "source": [
    "data_country_group['Country'].nunique()"
   ]
  },
  {
   "cell_type": "markdown",
   "metadata": {},
   "source": [
    "> #### DATA SOURCE 6: WorldData.csv (future fact table)"
   ]
  },
  {
   "cell_type": "markdown",
   "metadata": {},
   "source": [
    "- ##### read the file, check first few rows"
   ]
  },
  {
   "cell_type": "code",
   "execution_count": 103,
   "metadata": {},
   "outputs": [
    {
     "data": {
      "text/html": [
       "<div>\n",
       "<style scoped>\n",
       "    .dataframe tbody tr th:only-of-type {\n",
       "        vertical-align: middle;\n",
       "    }\n",
       "\n",
       "    .dataframe tbody tr th {\n",
       "        vertical-align: top;\n",
       "    }\n",
       "\n",
       "    .dataframe thead th {\n",
       "        text-align: right;\n",
       "    }\n",
       "</style>\n",
       "<table border=\"1\" class=\"dataframe\">\n",
       "  <thead>\n",
       "    <tr style=\"text-align: right;\">\n",
       "      <th></th>\n",
       "      <th>Area Code</th>\n",
       "      <th>Area Code (M49)</th>\n",
       "      <th>Area</th>\n",
       "      <th>Item Code</th>\n",
       "      <th>Item Code (CPC)</th>\n",
       "      <th>Item</th>\n",
       "      <th>Element Code</th>\n",
       "      <th>Element</th>\n",
       "      <th>Year Code</th>\n",
       "      <th>Year</th>\n",
       "      <th>Unit</th>\n",
       "      <th>Value</th>\n",
       "      <th>Flag</th>\n",
       "    </tr>\n",
       "  </thead>\n",
       "  <tbody>\n",
       "    <tr>\n",
       "      <th>0</th>\n",
       "      <td>2</td>\n",
       "      <td>'004</td>\n",
       "      <td>Afghanistan</td>\n",
       "      <td>221</td>\n",
       "      <td>'01371</td>\n",
       "      <td>Almonds, in shell</td>\n",
       "      <td>5312</td>\n",
       "      <td>Area harvested</td>\n",
       "      <td>1975</td>\n",
       "      <td>1975</td>\n",
       "      <td>ha</td>\n",
       "      <td>0.0</td>\n",
       "      <td>E</td>\n",
       "    </tr>\n",
       "    <tr>\n",
       "      <th>1</th>\n",
       "      <td>2</td>\n",
       "      <td>'004</td>\n",
       "      <td>Afghanistan</td>\n",
       "      <td>221</td>\n",
       "      <td>'01371</td>\n",
       "      <td>Almonds, in shell</td>\n",
       "      <td>5312</td>\n",
       "      <td>Area harvested</td>\n",
       "      <td>1976</td>\n",
       "      <td>1976</td>\n",
       "      <td>ha</td>\n",
       "      <td>5900.0</td>\n",
       "      <td>E</td>\n",
       "    </tr>\n",
       "    <tr>\n",
       "      <th>2</th>\n",
       "      <td>2</td>\n",
       "      <td>'004</td>\n",
       "      <td>Afghanistan</td>\n",
       "      <td>221</td>\n",
       "      <td>'01371</td>\n",
       "      <td>Almonds, in shell</td>\n",
       "      <td>5312</td>\n",
       "      <td>Area harvested</td>\n",
       "      <td>1977</td>\n",
       "      <td>1977</td>\n",
       "      <td>ha</td>\n",
       "      <td>6000.0</td>\n",
       "      <td>E</td>\n",
       "    </tr>\n",
       "    <tr>\n",
       "      <th>3</th>\n",
       "      <td>2</td>\n",
       "      <td>'004</td>\n",
       "      <td>Afghanistan</td>\n",
       "      <td>221</td>\n",
       "      <td>'01371</td>\n",
       "      <td>Almonds, in shell</td>\n",
       "      <td>5312</td>\n",
       "      <td>Area harvested</td>\n",
       "      <td>1978</td>\n",
       "      <td>1978</td>\n",
       "      <td>ha</td>\n",
       "      <td>6000.0</td>\n",
       "      <td>E</td>\n",
       "    </tr>\n",
       "    <tr>\n",
       "      <th>4</th>\n",
       "      <td>2</td>\n",
       "      <td>'004</td>\n",
       "      <td>Afghanistan</td>\n",
       "      <td>221</td>\n",
       "      <td>'01371</td>\n",
       "      <td>Almonds, in shell</td>\n",
       "      <td>5312</td>\n",
       "      <td>Area harvested</td>\n",
       "      <td>1979</td>\n",
       "      <td>1979</td>\n",
       "      <td>ha</td>\n",
       "      <td>6000.0</td>\n",
       "      <td>E</td>\n",
       "    </tr>\n",
       "    <tr>\n",
       "      <th>5</th>\n",
       "      <td>2</td>\n",
       "      <td>'004</td>\n",
       "      <td>Afghanistan</td>\n",
       "      <td>221</td>\n",
       "      <td>'01371</td>\n",
       "      <td>Almonds, in shell</td>\n",
       "      <td>5312</td>\n",
       "      <td>Area harvested</td>\n",
       "      <td>1980</td>\n",
       "      <td>1980</td>\n",
       "      <td>ha</td>\n",
       "      <td>5800.0</td>\n",
       "      <td>E</td>\n",
       "    </tr>\n",
       "  </tbody>\n",
       "</table>\n",
       "</div>"
      ],
      "text/plain": [
       "   Area Code Area Code (M49)         Area  Item Code Item Code (CPC)  \\\n",
       "0          2            '004  Afghanistan        221          '01371   \n",
       "1          2            '004  Afghanistan        221          '01371   \n",
       "2          2            '004  Afghanistan        221          '01371   \n",
       "3          2            '004  Afghanistan        221          '01371   \n",
       "4          2            '004  Afghanistan        221          '01371   \n",
       "5          2            '004  Afghanistan        221          '01371   \n",
       "\n",
       "                Item  Element Code         Element  Year Code  Year Unit  \\\n",
       "0  Almonds, in shell          5312  Area harvested       1975  1975   ha   \n",
       "1  Almonds, in shell          5312  Area harvested       1976  1976   ha   \n",
       "2  Almonds, in shell          5312  Area harvested       1977  1977   ha   \n",
       "3  Almonds, in shell          5312  Area harvested       1978  1978   ha   \n",
       "4  Almonds, in shell          5312  Area harvested       1979  1979   ha   \n",
       "5  Almonds, in shell          5312  Area harvested       1980  1980   ha   \n",
       "\n",
       "    Value Flag  \n",
       "0     0.0    E  \n",
       "1  5900.0    E  \n",
       "2  6000.0    E  \n",
       "3  6000.0    E  \n",
       "4  6000.0    E  \n",
       "5  5800.0    E  "
      ]
     },
     "execution_count": 103,
     "metadata": {},
     "output_type": "execute_result"
    }
   ],
   "source": [
    "file_world_data = \"data/WorldData.csv\"\n",
    "world_data = dd.read_csv(file_world_data, encoding=\"cp1252\")\n",
    "world_data.head(6)"
   ]
  },
  {
   "cell_type": "markdown",
   "metadata": {},
   "source": [
    "- ##### check for duplicates"
   ]
  },
  {
   "cell_type": "code",
   "execution_count": 104,
   "metadata": {},
   "outputs": [],
   "source": [
    "tr_wd = world_data.count().compute()\n",
    "ur_wd = world_data.drop_duplicates().count().compute()"
   ]
  },
  {
   "cell_type": "code",
   "execution_count": 105,
   "metadata": {},
   "outputs": [
    {
     "name": "stdout",
     "output_type": "stream",
     "text": [
      "Data is good, there are 0 duplicates. In total there are 3761168 rows, and 3761168 unique values.\n"
     ]
    }
   ],
   "source": [
    "if tr_wd['Value'] == ur_wd['Value']:\n",
    "    print(f\"Data is good, there are {tr_wd['Value']-ur_wd['Value']} duplicates. \\\n",
    "In total there are {tr_wd['Value']} rows, and {ur_wd['Value']} unique values.\")\n",
    "    \n",
    "elif tr_wd['Value'] > unique_rows_wd['Value']:\n",
    "    print(f\"There are {tr_wd['Value']-ur_wd['Value']} duplicates in the data. \\\n",
    "There are {tr_wd['Value']} rows in total, and {ur_wd['Value']} unique values\")\n",
    "    \n",
    "else:\n",
    "    print(f\"Something is wrong with the data. There are more unique values than the rows: \\\n",
    "total rows {tr_wd['Value']} and {ur_wd['Value']} unique values.\")"
   ]
  },
  {
   "cell_type": "markdown",
   "metadata": {},
   "source": [
    "- ##### create a file with unique values for Countries (and their codes)"
   ]
  },
  {
   "cell_type": "code",
   "execution_count": 22,
   "metadata": {},
   "outputs": [],
   "source": [
    "countries = world_data[['Area', 'Area Code (M49)']].drop_duplicates().compute()\n",
    "countries['Area Code (M49)'] = countries['Area Code (M49)'].str.lstrip(\"'\")\n",
    "current_datetime = datetime.now().strftime(\"%Y-%m-%dT%H-%M-%S\")\n",
    "str_current_datetime = str(current_datetime)\n",
    "countries.to_csv(f'data/countries_list_{str_current_datetime}.csv')"
   ]
  },
  {
   "cell_type": "markdown",
   "metadata": {},
   "source": [
    "> #### DATA SOURCE API: restcountries"
   ]
  },
  {
   "cell_type": "markdown",
   "metadata": {},
   "source": [
    "- ##### get the list of countries codes that will be used as a parameter for API calls"
   ]
  },
  {
   "cell_type": "code",
   "execution_count": 106,
   "metadata": {},
   "outputs": [
    {
     "name": "stdout",
     "output_type": "stream",
     "text": [
      "data\\countries_list_2023-08-18T09-21-01.csv\n"
     ]
    }
   ],
   "source": [
    "list_of_files = glob.glob('data/countries_list_*') # * means all if need specific format then *.csv\n",
    "latest_file = max(list_of_files, key=os.path.getctime)\n",
    "print(latest_file)"
   ]
  },
  {
   "cell_type": "code",
   "execution_count": 59,
   "metadata": {},
   "outputs": [],
   "source": [
    "df_countries = pd.read_csv(latest_file)\n",
    "list_of_countries=[]\n",
    "for x in df_countries.values:\n",
    "    list_of_countries.append(f'{x[2]:03d}')"
   ]
  },
  {
   "cell_type": "code",
   "execution_count": 60,
   "metadata": {},
   "outputs": [
    {
     "name": "stdout",
     "output_type": "stream",
     "text": [
      "245\n"
     ]
    }
   ],
   "source": [
    "print(len(list_of_countries))"
   ]
  },
  {
   "cell_type": "markdown",
   "metadata": {},
   "source": [
    "- ##### make API calls to get information about the countries, save results in json files"
   ]
  },
  {
   "cell_type": "code",
   "execution_count": 61,
   "metadata": {},
   "outputs": [],
   "source": [
    "result_file_countries = []\n",
    "for i in list_of_countries:\n",
    "    url = \"https://restcountries.com/v3.1/alpha/\"+i+\"?fields=ccn3,flags,name,capital,languages,area,population\" \n",
    "    r = requests.get(url)\n",
    "    if r.status_code >= 201:\n",
    "        continue\n",
    "    data = r.json()\n",
    "    result_file_countries.append(data)\n",
    "    \n",
    "#result_file_countries\n",
    "json_object = json.dumps(result_file_countries, indent=4)\n",
    " \n",
    "# Writing to sample.json\n",
    "with open(\"data/countries_info.json\", \"w\") as outfile:\n",
    "    outfile.write(json_object)"
   ]
  },
  {
   "cell_type": "markdown",
   "metadata": {},
   "source": [
    "### Step 3: Define the Data Model"
   ]
  },
  {
   "cell_type": "markdown",
   "metadata": {},
   "source": [
    "#### 3.1 Conceptual Data Model\n",
    "Map out the conceptual data model and explain why you chose that model"
   ]
  },
  {
   "cell_type": "markdown",
   "metadata": {},
   "source": [
    "- ##### conceptual data model"
   ]
  },
  {
   "cell_type": "markdown",
   "metadata": {},
   "source": [
    "![conceptual data model](img/wd_conceptual_datamodel.jpg)"
   ]
  },
  {
   "cell_type": "markdown",
   "metadata": {},
   "source": [
    "- ##### high level architecture"
   ]
  },
  {
   "cell_type": "markdown",
   "metadata": {},
   "source": [
    "![High level architecture](img/wd_architecture.jpg)"
   ]
  },
  {
   "cell_type": "markdown",
   "metadata": {},
   "source": [
    "- ##### physical data model"
   ]
  },
  {
   "cell_type": "markdown",
   "metadata": {},
   "source": [
    "![Physical data model](img/wd_physical_datamodel.jpg)"
   ]
  },
  {
   "cell_type": "markdown",
   "metadata": {},
   "source": [
    "#### 3.2 Mapping Out Data Pipelines\n",
    "List the steps necessary to pipeline the data into the chosen data model"
   ]
  },
  {
   "cell_type": "markdown",
   "metadata": {},
   "source": [
    "Pre-requisites:\n",
    "* Prepare S3 bucket and IAM user to upload result files \n",
    "* <p style=\"color:red\"> tba </p>\n",
    "\n",
    "<p style=\"color:red\"> add here!!!! </p>\n",
    "\n",
    "- Units.csv\n",
    "    - rename field names (formatting) \n",
    "    - save and load the file to prepared S3 bucket \n",
    "- Items.csv\n",
    "    - rename field names (formatting)\n",
    "    - drop columns 'CPC Code', 'HS Code', 'HS07 Code', 'HS12 Code'\n",
    "    - save and load the file to prepared S3 bucket\n",
    "- ItemGroup.csv\n",
    "    - rename field names (formatting)\n",
    "    - drop columns 'Factor', CPC Code', 'HS Code', 'HS07 Code', 'HS12 Code'\n",
    "    - insert a column with id of the row\n",
    "    - save and load the file to prepared S3 bucket\n",
    "- Flags.csv\n",
    "    - rename field names (formatting)\n",
    "    - save and load the file to prepared S3 bucket\n",
    "- Elements.csv\n",
    "    - rename field names (formatting)\n",
    "    - save and load the file to prepared S3 bucket\n",
    "- CountryGroup.csv\n",
    "    - rename field names (formatting)\n",
    "    - drop columns 'Country Group Code', 'Country Code', 'ISO2 Code', 'ISO3 Code'\n",
    "    - insert a column with id of the row\n",
    "    - save and load the file to prepared S3 bucket\n",
    "- WorldData.csv\n",
    "    - rename field names (formatting)\n",
    "    - drop columns 'Country Group Code', 'Country Code', 'ISO2 Code', 'ISO3 Code'\n",
    "    - save and load the file to prepared S3 bucket\n",
    "- API RestCountries\n",
    "    - name: remove 'nativeName' section\n",
    "    - capital: make a string with a list of values\n",
    "    - languages: make a string with a list of values\n",
    "    - save and load the file to prepared S3 bucket\n",
    "    "
   ]
  },
  {
   "cell_type": "markdown",
   "metadata": {},
   "source": [
    "### Step 4: Run Pipelines to Model the Data \n",
    "#### 4.1 Create the data model\n",
    "Build the data pipelines to create the data model."
   ]
  },
  {
   "cell_type": "markdown",
   "metadata": {},
   "source": [
    "- ##### settings for all data sources"
   ]
  },
  {
   "cell_type": "code",
   "execution_count": 107,
   "metadata": {},
   "outputs": [],
   "source": [
    "# define helpers to upload files to S3\n",
    "s3 = boto3.client('s3')"
   ]
  },
  {
   "cell_type": "code",
   "execution_count": 109,
   "metadata": {},
   "outputs": [],
   "source": [
    "# creating output folder where the result files will be uploaded\n",
    "current_directory = os.getcwd()\n",
    "\n",
    "final_directory = os.path.join(current_directory, r'output')\n",
    "if not os.path.exists(final_directory):\n",
    "   os.makedirs(final_directory)"
   ]
  },
  {
   "cell_type": "markdown",
   "metadata": {},
   "source": [
    "- ##### Units.csv -> dim_unit.csv"
   ]
  },
  {
   "cell_type": "code",
   "execution_count": 110,
   "metadata": {},
   "outputs": [],
   "source": [
    "# data transformations\n",
    "data_units_final = data_units.rename(columns={'Unit Name': 'unit_name', 'Description': 'description'})"
   ]
  },
  {
   "cell_type": "code",
   "execution_count": 111,
   "metadata": {},
   "outputs": [],
   "source": [
    "# saving result file\n",
    "data_units_file = data_units_final.to_csv(f'{final_directory}/dim_unit.csv', index=False)"
   ]
  },
  {
   "cell_type": "code",
   "execution_count": 140,
   "metadata": {},
   "outputs": [],
   "source": [
    "# upload file to S3\n",
    "s3.upload_file(f'{final_directory}/dim_unit.csv', 'world-data-project', 'dim_unit.csv')"
   ]
  },
  {
   "cell_type": "markdown",
   "metadata": {},
   "source": [
    "- ##### ItemsGroup.csv -> dim_item_group.csv"
   ]
  },
  {
   "cell_type": "code",
   "execution_count": 112,
   "metadata": {},
   "outputs": [],
   "source": [
    "# data transformations\n",
    "data_item_group_final = data_item_group\\\n",
    ".rename(columns={'Item Group Code': 'item_group_code', 'Item Group': 'item_group', \\\n",
    "                 'Item Code': 'item_code', 'Item': 'item'})\\\n",
    ".drop(columns=['Factor', 'CPC Code', 'HS Code', 'HS07 Code', 'HS12 Code'])"
   ]
  },
  {
   "cell_type": "code",
   "execution_count": 114,
   "metadata": {},
   "outputs": [],
   "source": [
    "# saving result file\n",
    "data_item_group_file = data_item_group_final.to_csv(f'{final_directory}/dim_item_group.csv', index=False)"
   ]
  },
  {
   "cell_type": "code",
   "execution_count": 141,
   "metadata": {},
   "outputs": [],
   "source": [
    "# upload file to S3\n",
    "s3.upload_file(f'{final_directory}/dim_item_group.csv', 'world-data-project', 'dim_item_group.csv')"
   ]
  },
  {
   "cell_type": "markdown",
   "metadata": {},
   "source": [
    "- ##### Flags.csv -> dim_flag.csv"
   ]
  },
  {
   "cell_type": "code",
   "execution_count": 115,
   "metadata": {},
   "outputs": [],
   "source": [
    "# data transformations\n",
    "data_flag_final = data_flags\\\n",
    ".rename(columns={'Flag': 'flag', 'Description': 'description'})"
   ]
  },
  {
   "cell_type": "code",
   "execution_count": 116,
   "metadata": {},
   "outputs": [],
   "source": [
    "# saving result file\n",
    "data_flag_file = data_flag_final.to_csv(f'{final_directory}/dim_flag.csv', index=False)"
   ]
  },
  {
   "cell_type": "code",
   "execution_count": 142,
   "metadata": {},
   "outputs": [],
   "source": [
    "# upload file to S3\n",
    "s3.upload_file(f'{final_directory}/dim_flag.csv', 'world-data-project', 'dim_flag.csv')"
   ]
  },
  {
   "cell_type": "markdown",
   "metadata": {},
   "source": [
    "- ##### Elements.csv -> dim_element.csv"
   ]
  },
  {
   "cell_type": "code",
   "execution_count": 117,
   "metadata": {},
   "outputs": [],
   "source": [
    "# data transformations\n",
    "data_element_final = data_elements\\\n",
    ".rename(columns={'Element Code': 'element_code', 'Element': 'element', 'Unit': 'unit', 'Description': 'description'})"
   ]
  },
  {
   "cell_type": "code",
   "execution_count": 118,
   "metadata": {},
   "outputs": [],
   "source": [
    "# saving result file\n",
    "data_element_file = data_element_final.to_csv(f'{final_directory}/dim_element.csv', index=False)"
   ]
  },
  {
   "cell_type": "code",
   "execution_count": 143,
   "metadata": {},
   "outputs": [],
   "source": [
    "# upload file to S3\n",
    "s3.upload_file(f'{final_directory}/dim_element.csv', 'world-data-project', 'dim_element.csv')"
   ]
  },
  {
   "cell_type": "markdown",
   "metadata": {},
   "source": [
    "- ##### CountryGroup.csv -> dim_country_group.csv"
   ]
  },
  {
   "cell_type": "code",
   "execution_count": 119,
   "metadata": {},
   "outputs": [],
   "source": [
    "# data transformations\n",
    "data_country_group_final = data_country_group\\\n",
    ".rename(columns={'Country Group': 'country_group', \\\n",
    "                 'Country': 'country', 'M49 Code': 'm49_code'})\\\n",
    ".drop(columns=['Country Group Code', 'Country Code', 'ISO2 Code', 'ISO3 Code'])"
   ]
  },
  {
   "cell_type": "code",
   "execution_count": 120,
   "metadata": {},
   "outputs": [
    {
     "data": {
      "text/html": [
       "<div>\n",
       "<style scoped>\n",
       "    .dataframe tbody tr th:only-of-type {\n",
       "        vertical-align: middle;\n",
       "    }\n",
       "\n",
       "    .dataframe tbody tr th {\n",
       "        vertical-align: top;\n",
       "    }\n",
       "\n",
       "    .dataframe thead th {\n",
       "        text-align: right;\n",
       "    }\n",
       "</style>\n",
       "<table border=\"1\" class=\"dataframe\">\n",
       "  <thead>\n",
       "    <tr style=\"text-align: right;\">\n",
       "      <th></th>\n",
       "      <th>country_group</th>\n",
       "      <th>country</th>\n",
       "      <th>m49_code</th>\n",
       "    </tr>\n",
       "  </thead>\n",
       "  <tbody>\n",
       "    <tr>\n",
       "      <th>0</th>\n",
       "      <td>Africa</td>\n",
       "      <td>Algeria</td>\n",
       "      <td>12</td>\n",
       "    </tr>\n",
       "    <tr>\n",
       "      <th>1</th>\n",
       "      <td>Africa</td>\n",
       "      <td>Angola</td>\n",
       "      <td>24</td>\n",
       "    </tr>\n",
       "    <tr>\n",
       "      <th>2</th>\n",
       "      <td>Africa</td>\n",
       "      <td>Benin</td>\n",
       "      <td>204</td>\n",
       "    </tr>\n",
       "    <tr>\n",
       "      <th>3</th>\n",
       "      <td>Africa</td>\n",
       "      <td>Botswana</td>\n",
       "      <td>72</td>\n",
       "    </tr>\n",
       "    <tr>\n",
       "      <th>4</th>\n",
       "      <td>Africa</td>\n",
       "      <td>Burkina Faso</td>\n",
       "      <td>854</td>\n",
       "    </tr>\n",
       "  </tbody>\n",
       "</table>\n",
       "</div>"
      ],
      "text/plain": [
       "  country_group       country  m49_code\n",
       "0        Africa       Algeria        12\n",
       "1        Africa        Angola        24\n",
       "2        Africa         Benin       204\n",
       "3        Africa      Botswana        72\n",
       "4        Africa  Burkina Faso       854"
      ]
     },
     "execution_count": 120,
     "metadata": {},
     "output_type": "execute_result"
    }
   ],
   "source": [
    "data_country_group_final.head()"
   ]
  },
  {
   "cell_type": "code",
   "execution_count": 121,
   "metadata": {},
   "outputs": [],
   "source": [
    "# saving result file\n",
    "data_country_group_file = data_country_group_final.to_csv(f'{final_directory}/dim_country_group.csv', index=False)"
   ]
  },
  {
   "cell_type": "code",
   "execution_count": 144,
   "metadata": {},
   "outputs": [],
   "source": [
    "# upload file to S3\n",
    "s3.upload_file(f'{final_directory}/dim_country_group.csv', 'world-data-project', 'dim_country_group.csv')"
   ]
  },
  {
   "cell_type": "markdown",
   "metadata": {},
   "source": [
    "- ##### WorldData.csv -> fact_world_data.csv"
   ]
  },
  {
   "cell_type": "code",
   "execution_count": 122,
   "metadata": {},
   "outputs": [],
   "source": [
    "# data transformations\n",
    "world_data_final = world_data\\\n",
    ".rename(columns={'Area Code (M49)': 'area_code_m49', 'Item Code': 'item_code', 'Element Code': 'element_code', \\\n",
    "                 'Year': 'year', 'Unit': 'unit_name', 'Value': 'value', 'Flag': 'flag_code'})\\\n",
    ".drop(columns=['Area Code', 'Area', 'Item Code (CPC)', 'Item', 'Element', 'Year Code'])"
   ]
  },
  {
   "cell_type": "code",
   "execution_count": 123,
   "metadata": {},
   "outputs": [],
   "source": [
    "# remove star from area code\n",
    "world_data_final['area_code_m49'] = world_data_final['area_code_m49'].str.lstrip(\"'\")"
   ]
  },
  {
   "cell_type": "code",
   "execution_count": 146,
   "metadata": {},
   "outputs": [
    {
     "data": {
      "text/html": [
       "<div>\n",
       "<style scoped>\n",
       "    .dataframe tbody tr th:only-of-type {\n",
       "        vertical-align: middle;\n",
       "    }\n",
       "\n",
       "    .dataframe tbody tr th {\n",
       "        vertical-align: top;\n",
       "    }\n",
       "\n",
       "    .dataframe thead th {\n",
       "        text-align: right;\n",
       "    }\n",
       "</style>\n",
       "<table border=\"1\" class=\"dataframe\">\n",
       "  <thead>\n",
       "    <tr style=\"text-align: right;\">\n",
       "      <th></th>\n",
       "      <th>area_code_m49</th>\n",
       "      <th>item_code</th>\n",
       "      <th>element_code</th>\n",
       "      <th>year</th>\n",
       "      <th>unit_name</th>\n",
       "      <th>value</th>\n",
       "      <th>flag_code</th>\n",
       "    </tr>\n",
       "  </thead>\n",
       "  <tbody>\n",
       "    <tr>\n",
       "      <th>0</th>\n",
       "      <td>004</td>\n",
       "      <td>221</td>\n",
       "      <td>5312</td>\n",
       "      <td>1975</td>\n",
       "      <td>ha</td>\n",
       "      <td>0.0</td>\n",
       "      <td>E</td>\n",
       "    </tr>\n",
       "    <tr>\n",
       "      <th>1</th>\n",
       "      <td>004</td>\n",
       "      <td>221</td>\n",
       "      <td>5312</td>\n",
       "      <td>1976</td>\n",
       "      <td>ha</td>\n",
       "      <td>5900.0</td>\n",
       "      <td>E</td>\n",
       "    </tr>\n",
       "    <tr>\n",
       "      <th>2</th>\n",
       "      <td>004</td>\n",
       "      <td>221</td>\n",
       "      <td>5312</td>\n",
       "      <td>1977</td>\n",
       "      <td>ha</td>\n",
       "      <td>6000.0</td>\n",
       "      <td>E</td>\n",
       "    </tr>\n",
       "    <tr>\n",
       "      <th>3</th>\n",
       "      <td>004</td>\n",
       "      <td>221</td>\n",
       "      <td>5312</td>\n",
       "      <td>1978</td>\n",
       "      <td>ha</td>\n",
       "      <td>6000.0</td>\n",
       "      <td>E</td>\n",
       "    </tr>\n",
       "    <tr>\n",
       "      <th>4</th>\n",
       "      <td>004</td>\n",
       "      <td>221</td>\n",
       "      <td>5312</td>\n",
       "      <td>1979</td>\n",
       "      <td>ha</td>\n",
       "      <td>6000.0</td>\n",
       "      <td>E</td>\n",
       "    </tr>\n",
       "  </tbody>\n",
       "</table>\n",
       "</div>"
      ],
      "text/plain": [
       "  area_code_m49  item_code  element_code  year unit_name   value flag_code\n",
       "0           004        221          5312  1975        ha     0.0         E\n",
       "1           004        221          5312  1976        ha  5900.0         E\n",
       "2           004        221          5312  1977        ha  6000.0         E\n",
       "3           004        221          5312  1978        ha  6000.0         E\n",
       "4           004        221          5312  1979        ha  6000.0         E"
      ]
     },
     "execution_count": 146,
     "metadata": {},
     "output_type": "execute_result"
    }
   ],
   "source": [
    "world_data_final.head()"
   ]
  },
  {
   "cell_type": "code",
   "execution_count": 125,
   "metadata": {},
   "outputs": [],
   "source": [
    "# saving result file\n",
    "world_data_file = world_data_final.to_csv(f'{final_directory}/fact_world_data.csv', single_file=True)"
   ]
  },
  {
   "cell_type": "code",
   "execution_count": 145,
   "metadata": {},
   "outputs": [],
   "source": [
    "# upload file to S3\n",
    "s3.upload_file(f'{final_directory}/fact_world_data.csv', 'world-data-project', 'fact_world_data.csv')"
   ]
  },
  {
   "cell_type": "markdown",
   "metadata": {},
   "source": [
    "- ##### API RestCountries -> dim_country_info.csv"
   ]
  },
  {
   "cell_type": "code",
   "execution_count": 134,
   "metadata": {},
   "outputs": [
    {
     "ename": "AttributeError",
     "evalue": "'str' object has no attribute 'values'",
     "output_type": "error",
     "traceback": [
      "\u001b[1;31m---------------------------------------------------------------------------\u001b[0m",
      "\u001b[1;31mAttributeError\u001b[0m                            Traceback (most recent call last)",
      "\u001b[1;32m~\\AppData\\Local\\Temp\\ipykernel_19984\\908007048.py\u001b[0m in \u001b[0;36m<module>\u001b[1;34m\u001b[0m\n\u001b[0;32m      3\u001b[0m \u001b[1;32mfor\u001b[0m \u001b[0mitem\u001b[0m \u001b[1;32min\u001b[0m \u001b[0mdata_ctb\u001b[0m\u001b[1;33m:\u001b[0m\u001b[1;33m\u001b[0m\u001b[1;33m\u001b[0m\u001b[0m\n\u001b[0;32m      4\u001b[0m     \u001b[1;32mif\u001b[0m \u001b[0mitem\u001b[0m\u001b[1;33m[\u001b[0m\u001b[1;34m'languages'\u001b[0m\u001b[1;33m]\u001b[0m\u001b[1;33m:\u001b[0m\u001b[1;33m\u001b[0m\u001b[1;33m\u001b[0m\u001b[0m\n\u001b[1;32m----> 5\u001b[1;33m         \u001b[0mitem\u001b[0m\u001b[1;33m[\u001b[0m\u001b[1;34m'languages'\u001b[0m\u001b[1;33m]\u001b[0m \u001b[1;33m=\u001b[0m \u001b[1;34m', '\u001b[0m\u001b[1;33m.\u001b[0m\u001b[0mjoin\u001b[0m\u001b[1;33m(\u001b[0m\u001b[0mstr\u001b[0m\u001b[1;33m(\u001b[0m\u001b[0mvalue\u001b[0m\u001b[1;33m)\u001b[0m \u001b[1;32mfor\u001b[0m \u001b[0mvalue\u001b[0m \u001b[1;32min\u001b[0m \u001b[0mitem\u001b[0m\u001b[1;33m[\u001b[0m\u001b[1;34m'languages'\u001b[0m\u001b[1;33m]\u001b[0m\u001b[1;33m.\u001b[0m\u001b[0mvalues\u001b[0m\u001b[1;33m(\u001b[0m\u001b[1;33m)\u001b[0m\u001b[1;33m)\u001b[0m\u001b[1;33m\u001b[0m\u001b[1;33m\u001b[0m\u001b[0m\n\u001b[0m\u001b[0;32m      6\u001b[0m \u001b[1;33m\u001b[0m\u001b[0m\n\u001b[0;32m      7\u001b[0m     \u001b[1;32mif\u001b[0m \u001b[0mitem\u001b[0m\u001b[1;33m[\u001b[0m\u001b[1;34m'capital'\u001b[0m\u001b[1;33m]\u001b[0m\u001b[1;33m:\u001b[0m\u001b[1;33m\u001b[0m\u001b[1;33m\u001b[0m\u001b[0m\n",
      "\u001b[1;31mAttributeError\u001b[0m: 'str' object has no attribute 'values'"
     ]
    }
   ],
   "source": [
    "# data transformations: languages and capita(s) become strings, native names are removed\n",
    "countries_info_data = []\n",
    "for item in data_ctb:\n",
    "    if item['languages']:\n",
    "        item['languages'] = ', '.join(str(value) for value in item['languages'].values())\n",
    "        \n",
    "    if item['capital']:\n",
    "        item['capital'] = ', '.join(value for value in item['capital'])\n",
    "        \n",
    "    if item['name']['nativeName']:\n",
    "        del item['name']['nativeName']\n",
    "        \n",
    "    countries_info_data.append(item)"
   ]
  },
  {
   "cell_type": "code",
   "execution_count": 131,
   "metadata": {},
   "outputs": [],
   "source": [
    "countries_info_data_final = pd.json_normalize(countries_info_data)"
   ]
  },
  {
   "cell_type": "code",
   "execution_count": 132,
   "metadata": {
    "scrolled": true
   },
   "outputs": [
    {
     "data": {
      "text/html": [
       "<div>\n",
       "<style scoped>\n",
       "    .dataframe tbody tr th:only-of-type {\n",
       "        vertical-align: middle;\n",
       "    }\n",
       "\n",
       "    .dataframe tbody tr th {\n",
       "        vertical-align: top;\n",
       "    }\n",
       "\n",
       "    .dataframe thead th {\n",
       "        text-align: right;\n",
       "    }\n",
       "</style>\n",
       "<table border=\"1\" class=\"dataframe\">\n",
       "  <thead>\n",
       "    <tr style=\"text-align: right;\">\n",
       "      <th></th>\n",
       "      <th>ccn3</th>\n",
       "      <th>capital</th>\n",
       "      <th>languages</th>\n",
       "      <th>area</th>\n",
       "      <th>population</th>\n",
       "      <th>flags.png</th>\n",
       "      <th>flags.svg</th>\n",
       "      <th>flags.alt</th>\n",
       "      <th>name.common</th>\n",
       "      <th>name.official</th>\n",
       "    </tr>\n",
       "  </thead>\n",
       "  <tbody>\n",
       "    <tr>\n",
       "      <th>0</th>\n",
       "      <td>004</td>\n",
       "      <td>Kabul</td>\n",
       "      <td>Dari, Pashto, Turkmen</td>\n",
       "      <td>652230.0</td>\n",
       "      <td>40218234</td>\n",
       "      <td>https://upload.wikimedia.org/wikipedia/commons...</td>\n",
       "      <td>https://upload.wikimedia.org/wikipedia/commons...</td>\n",
       "      <td>The flag of the Islamic Emirate of Afghanistan...</td>\n",
       "      <td>Afghanistan</td>\n",
       "      <td>Islamic Republic of Afghanistan</td>\n",
       "    </tr>\n",
       "    <tr>\n",
       "      <th>1</th>\n",
       "      <td>008</td>\n",
       "      <td>Tirana</td>\n",
       "      <td>Albanian</td>\n",
       "      <td>28748.0</td>\n",
       "      <td>2837743</td>\n",
       "      <td>https://flagcdn.com/w320/al.png</td>\n",
       "      <td>https://flagcdn.com/al.svg</td>\n",
       "      <td>The flag of Albania features a silhouetted dou...</td>\n",
       "      <td>Albania</td>\n",
       "      <td>Republic of Albania</td>\n",
       "    </tr>\n",
       "    <tr>\n",
       "      <th>2</th>\n",
       "      <td>012</td>\n",
       "      <td>Algiers</td>\n",
       "      <td>Arabic</td>\n",
       "      <td>2381741.0</td>\n",
       "      <td>44700000</td>\n",
       "      <td>https://flagcdn.com/w320/dz.png</td>\n",
       "      <td>https://flagcdn.com/dz.svg</td>\n",
       "      <td>The flag of Algeria features two equal vertica...</td>\n",
       "      <td>Algeria</td>\n",
       "      <td>People's Democratic Republic of Algeria</td>\n",
       "    </tr>\n",
       "    <tr>\n",
       "      <th>3</th>\n",
       "      <td>024</td>\n",
       "      <td>Luanda</td>\n",
       "      <td>Portuguese</td>\n",
       "      <td>1246700.0</td>\n",
       "      <td>32866268</td>\n",
       "      <td>https://flagcdn.com/w320/ao.png</td>\n",
       "      <td>https://flagcdn.com/ao.svg</td>\n",
       "      <td>The flag of Angola features two equal horizont...</td>\n",
       "      <td>Angola</td>\n",
       "      <td>Republic of Angola</td>\n",
       "    </tr>\n",
       "    <tr>\n",
       "      <th>4</th>\n",
       "      <td>028</td>\n",
       "      <td>Saint John's</td>\n",
       "      <td>English</td>\n",
       "      <td>442.0</td>\n",
       "      <td>97928</td>\n",
       "      <td>https://flagcdn.com/w320/ag.png</td>\n",
       "      <td>https://flagcdn.com/ag.svg</td>\n",
       "      <td>The flag of Antigua and Barbuda has a red fiel...</td>\n",
       "      <td>Antigua and Barbuda</td>\n",
       "      <td>Antigua and Barbuda</td>\n",
       "    </tr>\n",
       "  </tbody>\n",
       "</table>\n",
       "</div>"
      ],
      "text/plain": [
       "  ccn3       capital              languages       area  population  \\\n",
       "0  004         Kabul  Dari, Pashto, Turkmen   652230.0    40218234   \n",
       "1  008        Tirana               Albanian    28748.0     2837743   \n",
       "2  012       Algiers                 Arabic  2381741.0    44700000   \n",
       "3  024        Luanda             Portuguese  1246700.0    32866268   \n",
       "4  028  Saint John's                English      442.0       97928   \n",
       "\n",
       "                                           flags.png  \\\n",
       "0  https://upload.wikimedia.org/wikipedia/commons...   \n",
       "1                    https://flagcdn.com/w320/al.png   \n",
       "2                    https://flagcdn.com/w320/dz.png   \n",
       "3                    https://flagcdn.com/w320/ao.png   \n",
       "4                    https://flagcdn.com/w320/ag.png   \n",
       "\n",
       "                                           flags.svg  \\\n",
       "0  https://upload.wikimedia.org/wikipedia/commons...   \n",
       "1                         https://flagcdn.com/al.svg   \n",
       "2                         https://flagcdn.com/dz.svg   \n",
       "3                         https://flagcdn.com/ao.svg   \n",
       "4                         https://flagcdn.com/ag.svg   \n",
       "\n",
       "                                           flags.alt          name.common  \\\n",
       "0  The flag of the Islamic Emirate of Afghanistan...          Afghanistan   \n",
       "1  The flag of Albania features a silhouetted dou...              Albania   \n",
       "2  The flag of Algeria features two equal vertica...              Algeria   \n",
       "3  The flag of Angola features two equal horizont...               Angola   \n",
       "4  The flag of Antigua and Barbuda has a red fiel...  Antigua and Barbuda   \n",
       "\n",
       "                             name.official  \n",
       "0          Islamic Republic of Afghanistan  \n",
       "1                      Republic of Albania  \n",
       "2  People's Democratic Republic of Algeria  \n",
       "3                       Republic of Angola  \n",
       "4                      Antigua and Barbuda  "
      ]
     },
     "execution_count": 132,
     "metadata": {},
     "output_type": "execute_result"
    }
   ],
   "source": [
    "countries_info_data_final.head()"
   ]
  },
  {
   "cell_type": "code",
   "execution_count": 133,
   "metadata": {},
   "outputs": [],
   "source": [
    "# saving result file\n",
    "countries_info_data_file = countries_info_data_final.to_csv(f'{final_directory}/dim_country_info.csv')"
   ]
  },
  {
   "cell_type": "code",
   "execution_count": 147,
   "metadata": {},
   "outputs": [],
   "source": [
    "# saving result file in S3 bucket\n",
    "s3.upload_file(f'{final_directory}/dim_country_info.csv', 'world-data-project', 'dim_country_info.csv')"
   ]
  },
  {
   "cell_type": "markdown",
   "metadata": {},
   "source": [
    "#### 4.2 Data Quality Checks\n",
    "Explain the data quality checks you'll perform to ensure the pipeline ran as expected. These could include:\n",
    " * Integrity constraints on the relational database (e.g., unique key, data type, etc.)\n",
    " * Unit tests for the scripts to ensure they are doing the right thing\n",
    " * Source/Count checks to ensure completeness\n",
    " \n",
    "Run Quality Checks"
   ]
  },
  {
   "cell_type": "code",
   "execution_count": null,
   "metadata": {},
   "outputs": [],
   "source": [
    "# Perform quality checks here"
   ]
  },
  {
   "cell_type": "markdown",
   "metadata": {},
   "source": [
    "- ##### data quality checks for dim_unit.csv"
   ]
  },
  {
   "cell_type": "code",
   "execution_count": 102,
   "metadata": {},
   "outputs": [
    {
     "name": "stdout",
     "output_type": "stream",
     "text": [
      "The file is saved in the correct local folder\n"
     ]
    }
   ],
   "source": [
    "#check that the file is saved in the right directory\n",
    "path = 'output/dim_unit.csv'\n",
    "\n",
    "if os.path.isfile(path) is True:\n",
    "    print('The file is saved in the correct local folder')\n",
    "else:\n",
    "    print('The file not in saved, or in the wrong folder!')"
   ]
  },
  {
   "cell_type": "code",
   "execution_count": 100,
   "metadata": {},
   "outputs": [
    {
     "name": "stdout",
     "output_type": "stream",
     "text": [
      "The file is not empty\n"
     ]
    }
   ],
   "source": [
    "# check that the file is not empty\n",
    "if os.stat('output/dim_unit.csv').st_size != 0:\n",
    "    print('The file is not empty')\n",
    "else:\n",
    "    print('The file is EMPTY!')"
   ]
  },
  {
   "cell_type": "code",
   "execution_count": 148,
   "metadata": {},
   "outputs": [
    {
     "name": "stdout",
     "output_type": "stream",
     "text": [
      "Object has fully uploaded to S3\n"
     ]
    }
   ],
   "source": [
    "# check that the file is uploaded to S3 bucket\n",
    "response = s3.list_objects_v2(\n",
    "    Bucket='world-data-project',\n",
    "    Prefix='dim_unit.csv',\n",
    ")\n",
    "\n",
    "if 'Contents' in response:\n",
    "    print('Object has fully uploaded to S3')\n",
    "else:\n",
    "    print('Object has not fully uploaded to S3')"
   ]
  },
  {
   "cell_type": "markdown",
   "metadata": {},
   "source": [
    "- ##### data quality checks for dim_item_group.csv"
   ]
  },
  {
   "cell_type": "code",
   "execution_count": 173,
   "metadata": {},
   "outputs": [
    {
     "name": "stdout",
     "output_type": "stream",
     "text": [
      "The file is saved in the correct local folder\n"
     ]
    }
   ],
   "source": [
    "#check that the file is saved in the right directory\n",
    "path = 'output/dim_item_group.csv'\n",
    "\n",
    "if os.path.isfile(path) is True:\n",
    "    print('The file is saved in the correct local folder')\n",
    "else:\n",
    "    print('The file not in saved, or in the wrong folder!')"
   ]
  },
  {
   "cell_type": "code",
   "execution_count": 174,
   "metadata": {},
   "outputs": [
    {
     "name": "stdout",
     "output_type": "stream",
     "text": [
      "The file is not empty\n"
     ]
    }
   ],
   "source": [
    "# check that the file is not empty\n",
    "if os.stat('output/dim_item_group.csv').st_size != 0:\n",
    "    print('The file is not empty')\n",
    "else:\n",
    "    print('The file is EMPTY!')"
   ]
  },
  {
   "cell_type": "code",
   "execution_count": 149,
   "metadata": {},
   "outputs": [
    {
     "name": "stdout",
     "output_type": "stream",
     "text": [
      "Object has fully uploaded to S3\n"
     ]
    }
   ],
   "source": [
    "# check that the file is uploaded to S3 bucket\n",
    "response = s3.list_objects_v2(\n",
    "    Bucket='world-data-project',\n",
    "    Prefix='dim_item_group.csv',\n",
    ")\n",
    "\n",
    "if 'Contents' in response:\n",
    "    print('Object has fully uploaded to S3')\n",
    "else:\n",
    "    print('Object has not fully uploaded to S3')"
   ]
  },
  {
   "cell_type": "markdown",
   "metadata": {},
   "source": [
    "- ##### quality checks for dim_flag.csv"
   ]
  },
  {
   "cell_type": "code",
   "execution_count": 184,
   "metadata": {},
   "outputs": [
    {
     "name": "stdout",
     "output_type": "stream",
     "text": [
      "The file is saved in the correct local folder\n"
     ]
    }
   ],
   "source": [
    "#check that the file is saved in the right directory\n",
    "path = 'output/dim_flag.csv'\n",
    "\n",
    "if os.path.isfile(path) is True:\n",
    "    print('The file is saved in the correct local folder')\n",
    "else:\n",
    "    print('The file not in saved, or in the wrong folder!')"
   ]
  },
  {
   "cell_type": "code",
   "execution_count": 185,
   "metadata": {},
   "outputs": [
    {
     "name": "stdout",
     "output_type": "stream",
     "text": [
      "The file is not empty\n"
     ]
    }
   ],
   "source": [
    "# check that the file is not empty\n",
    "if os.stat('output/dim_flag.csv').st_size != 0:\n",
    "    print('The file is not empty')\n",
    "else:\n",
    "    print('The file is EMPTY!')"
   ]
  },
  {
   "cell_type": "code",
   "execution_count": 150,
   "metadata": {},
   "outputs": [
    {
     "name": "stdout",
     "output_type": "stream",
     "text": [
      "Object has fully uploaded to S3\n"
     ]
    }
   ],
   "source": [
    "# check that the file is uploaded to S3 bucket\n",
    "response = s3.list_objects_v2(\n",
    "    Bucket='world-data-project',\n",
    "    Prefix='dim_flag.csv',\n",
    ")\n",
    "\n",
    "if 'Contents' in response:\n",
    "    print('Object has fully uploaded to S3')\n",
    "else:\n",
    "    print('Object has not fully uploaded to S3')"
   ]
  },
  {
   "cell_type": "markdown",
   "metadata": {},
   "source": [
    "- ##### quality checks for dim_element.csv"
   ]
  },
  {
   "cell_type": "code",
   "execution_count": 192,
   "metadata": {},
   "outputs": [
    {
     "name": "stdout",
     "output_type": "stream",
     "text": [
      "The file is saved in the correct local folder\n"
     ]
    }
   ],
   "source": [
    "#check that the file is saved in the right directory\n",
    "path = 'output/dim_element.csv'\n",
    "\n",
    "if os.path.isfile(path) is True:\n",
    "    print('The file is saved in the correct local folder')\n",
    "else:\n",
    "    print('The file not in saved, or in the wrong folder!')"
   ]
  },
  {
   "cell_type": "code",
   "execution_count": 193,
   "metadata": {},
   "outputs": [
    {
     "name": "stdout",
     "output_type": "stream",
     "text": [
      "The file is not empty\n"
     ]
    }
   ],
   "source": [
    "# check that the file is not empty\n",
    "if os.stat('output/dim_element.csv').st_size != 0:\n",
    "    print('The file is not empty')\n",
    "else:\n",
    "    print('The file is EMPTY!')"
   ]
  },
  {
   "cell_type": "code",
   "execution_count": 151,
   "metadata": {},
   "outputs": [
    {
     "name": "stdout",
     "output_type": "stream",
     "text": [
      "Object has fully uploaded to S3\n"
     ]
    }
   ],
   "source": [
    "# check that the file is uploaded to S3 bucket\n",
    "response = s3.list_objects_v2(\n",
    "    Bucket='world-data-project',\n",
    "    Prefix='dim_element.csv',\n",
    ")\n",
    "\n",
    "if 'Contents' in response:\n",
    "    print('Object has fully uploaded to S3')\n",
    "else:\n",
    "    print('Object has not fully uploaded to S3')"
   ]
  },
  {
   "cell_type": "markdown",
   "metadata": {},
   "source": [
    "- ##### quality checks for dim_country_group.csv"
   ]
  },
  {
   "cell_type": "code",
   "execution_count": 209,
   "metadata": {},
   "outputs": [
    {
     "name": "stdout",
     "output_type": "stream",
     "text": [
      "The file is saved in the correct local folder\n"
     ]
    }
   ],
   "source": [
    "#check that the file is saved in the right directory\n",
    "path = 'output/dim_country_group.csv'\n",
    "\n",
    "if os.path.isfile(path) is True:\n",
    "    print('The file is saved in the correct local folder')\n",
    "else:\n",
    "    print('The file not in saved, or in the wrong folder!')"
   ]
  },
  {
   "cell_type": "code",
   "execution_count": 210,
   "metadata": {},
   "outputs": [
    {
     "name": "stdout",
     "output_type": "stream",
     "text": [
      "The file is not empty\n"
     ]
    }
   ],
   "source": [
    "# check that the file is not empty\n",
    "if os.stat('output/dim_country_group.csv').st_size != 0:\n",
    "    print('The file is not empty')\n",
    "else:\n",
    "    print('The file is EMPTY!')"
   ]
  },
  {
   "cell_type": "code",
   "execution_count": 152,
   "metadata": {},
   "outputs": [
    {
     "name": "stdout",
     "output_type": "stream",
     "text": [
      "Object has fully uploaded to S3\n"
     ]
    }
   ],
   "source": [
    "# check that the file is uploaded to S3 bucket\n",
    "response = s3.list_objects_v2(\n",
    "    Bucket='world-data-project',\n",
    "    Prefix='dim_country_group.csv',\n",
    ")\n",
    "\n",
    "if 'Contents' in response:\n",
    "    print('Object has fully uploaded to S3')\n",
    "else:\n",
    "    print('Object has not fully uploaded to S3')"
   ]
  },
  {
   "cell_type": "markdown",
   "metadata": {},
   "source": [
    "- ##### quality checks for fact_world_data.csv"
   ]
  },
  {
   "cell_type": "code",
   "execution_count": 392,
   "metadata": {},
   "outputs": [
    {
     "name": "stdout",
     "output_type": "stream",
     "text": [
      "The file is saved in the correct local folder\n"
     ]
    }
   ],
   "source": [
    "#check that the file is saved in the right directory\n",
    "path = 'output/fact_world_data.csv'\n",
    "\n",
    "if os.path.isfile(path) is True:\n",
    "    print('The file is saved in the correct local folder')\n",
    "else:\n",
    "    print('The file not in saved, or in the wrong folder!')"
   ]
  },
  {
   "cell_type": "code",
   "execution_count": 393,
   "metadata": {},
   "outputs": [
    {
     "name": "stdout",
     "output_type": "stream",
     "text": [
      "The file is not empty\n"
     ]
    }
   ],
   "source": [
    "# check that the file is not empty\n",
    "if os.stat('output/fact_world_data.csv').st_size != 0:\n",
    "    print('The file is not empty')\n",
    "else:\n",
    "    print('The file is EMPTY!')"
   ]
  },
  {
   "cell_type": "code",
   "execution_count": 153,
   "metadata": {},
   "outputs": [
    {
     "name": "stdout",
     "output_type": "stream",
     "text": [
      "Object has fully uploaded to S3\n"
     ]
    }
   ],
   "source": [
    "# check that the file is uploaded to S3 bucket\n",
    "response = s3.list_objects_v2(\n",
    "    Bucket='world-data-project',\n",
    "    Prefix='fact_world_data.csv',\n",
    ")\n",
    "\n",
    "if 'Contents' in response:\n",
    "    print('Object has fully uploaded to S3')\n",
    "else:\n",
    "    print('Object has not fully uploaded to S3')"
   ]
  },
  {
   "cell_type": "markdown",
   "metadata": {},
   "source": [
    "- ##### quality checks for dim_country_info.csv"
   ]
  },
  {
   "cell_type": "code",
   "execution_count": 136,
   "metadata": {},
   "outputs": [
    {
     "name": "stdout",
     "output_type": "stream",
     "text": [
      "The file is saved in the correct local folder\n"
     ]
    }
   ],
   "source": [
    "#check that the file is saved in the right directory\n",
    "path = 'output/dim_country_info.csv'\n",
    "\n",
    "if os.path.isfile(path) is True:\n",
    "    print('The file is saved in the correct local folder')\n",
    "else:\n",
    "    print('The file not in saved, or in the wrong folder!')"
   ]
  },
  {
   "cell_type": "code",
   "execution_count": 155,
   "metadata": {},
   "outputs": [
    {
     "name": "stdout",
     "output_type": "stream",
     "text": [
      "The file is not empty\n"
     ]
    }
   ],
   "source": [
    "# check that the file is not empty\n",
    "if os.stat('output/dim_country_info.csv').st_size != 0:\n",
    "    print('The file is not empty')\n",
    "else:\n",
    "    print('The file is EMPTY!')"
   ]
  },
  {
   "cell_type": "code",
   "execution_count": 157,
   "metadata": {},
   "outputs": [
    {
     "name": "stdout",
     "output_type": "stream",
     "text": [
      "Object has fully uploaded to S3\n"
     ]
    }
   ],
   "source": [
    "# check that the file is uploaded to S3 bucket\n",
    "response = s3.list_objects_v2(\n",
    "    Bucket='world-data-project',\n",
    "    Prefix='dim_country_info.csv',\n",
    ")\n",
    "\n",
    "if 'Contents' in response:\n",
    "    print('Object has fully uploaded to S3')\n",
    "else:\n",
    "    print('Object has not fully uploaded to S3')"
   ]
  },
  {
   "cell_type": "code",
   "execution_count": null,
   "metadata": {},
   "outputs": [],
   "source": []
  },
  {
   "cell_type": "markdown",
   "metadata": {},
   "source": [
    "#### 4.3 Data dictionary \n",
    "Create a data dictionary for your data model. For each field, provide a brief description of what the data is and where it came from. You can include the data dictionary in the notebook or in a separate file."
   ]
  },
  {
   "cell_type": "markdown",
   "metadata": {},
   "source": [
    "#### Step 5: Complete Project Write Up\n",
    "* Clearly state the rationale for the choice of tools and technologies for the project.\n",
    "* Propose how often the data should be updated and why.\n",
    "* Write a description of how you would approach the problem differently under the following scenarios:\n",
    " * The data was increased by 100x.\n",
    " * The data populates a dashboard that must be updated on a daily basis by 7am every day.\n",
    " * The database needed to be accessed by 100+ people."
   ]
  },
  {
   "cell_type": "code",
   "execution_count": null,
   "metadata": {},
   "outputs": [],
   "source": []
  },
  {
   "cell_type": "code",
   "execution_count": null,
   "metadata": {},
   "outputs": [],
   "source": []
  },
  {
   "cell_type": "code",
   "execution_count": null,
   "metadata": {},
   "outputs": [],
   "source": []
  },
  {
   "cell_type": "code",
   "execution_count": null,
   "metadata": {},
   "outputs": [],
   "source": []
  },
  {
   "cell_type": "code",
   "execution_count": null,
   "metadata": {},
   "outputs": [],
   "source": []
  },
  {
   "cell_type": "code",
   "execution_count": null,
   "metadata": {},
   "outputs": [],
   "source": []
  }
 ],
 "metadata": {
  "kernelspec": {
   "display_name": "Python 3 (ipykernel)",
   "language": "python",
   "name": "python3"
  },
  "language_info": {
   "codemirror_mode": {
    "name": "ipython",
    "version": 3
   },
   "file_extension": ".py",
   "mimetype": "text/x-python",
   "name": "python",
   "nbconvert_exporter": "python",
   "pygments_lexer": "ipython3",
   "version": "3.9.13"
  }
 },
 "nbformat": 4,
 "nbformat_minor": 2
}
